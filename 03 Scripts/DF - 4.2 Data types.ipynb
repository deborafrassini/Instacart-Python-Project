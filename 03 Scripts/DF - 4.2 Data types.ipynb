{
 "cells": [
  {
   "cell_type": "markdown",
   "id": "9dbbed09-9324-4bde-b985-5b59073309e4",
   "metadata": {},
   "source": [
    "# 01. Import libraries "
   ]
  },
  {
   "cell_type": "code",
   "execution_count": 2,
   "id": "0b702488-3e7a-4fa8-b781-10486543d4b7",
   "metadata": {},
   "outputs": [],
   "source": [
    "# import libraries\n",
    "import pandas as pd\n",
    "import numpy as np\n",
    "import os "
   ]
  },
  {
   "cell_type": "markdown",
   "id": "c4d87342-af03-4292-a54e-e90495f87cf5",
   "metadata": {},
   "source": [
    "# 02. Data types"
   ]
  },
  {
   "cell_type": "code",
   "execution_count": 18,
   "id": "06eac5a6-4f8a-4838-b86f-3bf2c99eaefc",
   "metadata": {},
   "outputs": [],
   "source": [
    "# Code 3 different ways of reaching a result of 100"
   ]
  },
  {
   "cell_type": "code",
   "execution_count": 3,
   "id": "9c78d81e-67a8-4140-8bf2-ced8419f3ace",
   "metadata": {},
   "outputs": [],
   "source": [
    "x = 50"
   ]
  },
  {
   "cell_type": "code",
   "execution_count": 4,
   "id": "d02a900d-ff46-4600-a43e-6be639648565",
   "metadata": {},
   "outputs": [],
   "source": [
    "y = 50"
   ]
  },
  {
   "cell_type": "code",
   "execution_count": 5,
   "id": "284b5de0-19a6-421a-8aac-d5f4893a0c7f",
   "metadata": {},
   "outputs": [
    {
     "data": {
      "text/plain": [
       "100"
      ]
     },
     "execution_count": 5,
     "metadata": {},
     "output_type": "execute_result"
    }
   ],
   "source": [
    "x + y"
   ]
  },
  {
   "cell_type": "code",
   "execution_count": 6,
   "id": "6bbda212-123f-4eb8-bba9-376d0c775fae",
   "metadata": {},
   "outputs": [
    {
     "data": {
      "text/plain": [
       "100"
      ]
     },
     "execution_count": 6,
     "metadata": {},
     "output_type": "execute_result"
    }
   ],
   "source": [
    "x + x"
   ]
  },
  {
   "cell_type": "code",
   "execution_count": 7,
   "id": "a4382b3f-4a09-4e4c-87cc-f48bb1489a4e",
   "metadata": {},
   "outputs": [],
   "source": [
    "z = 200"
   ]
  },
  {
   "cell_type": "code",
   "execution_count": 8,
   "id": "314997c9-b000-4471-9e4d-bc4ac18060c5",
   "metadata": {},
   "outputs": [
    {
     "data": {
      "text/plain": [
       "100"
      ]
     },
     "execution_count": 8,
     "metadata": {},
     "output_type": "execute_result"
    }
   ],
   "source": [
    "z - (x + y)"
   ]
  },
  {
   "cell_type": "code",
   "execution_count": 19,
   "id": "19876f12-4f17-4275-8a58-5a3b1e8e9851",
   "metadata": {},
   "outputs": [],
   "source": [
    "# Code 2 floating-point variables and divide them by each other"
   ]
  },
  {
   "cell_type": "code",
   "execution_count": 9,
   "id": "13a270d0-8560-4af7-9f0c-10eeee0f0f1f",
   "metadata": {},
   "outputs": [],
   "source": [
    "fx = 10.501"
   ]
  },
  {
   "cell_type": "code",
   "execution_count": 10,
   "id": "80eaf400-4646-404f-89c5-60a23472e9c0",
   "metadata": {},
   "outputs": [],
   "source": [
    "fy = 5.125"
   ]
  },
  {
   "cell_type": "code",
   "execution_count": 11,
   "id": "bbf7c8b4-1450-4f2d-ae5b-4ca7b6aaa454",
   "metadata": {},
   "outputs": [
    {
     "data": {
      "text/plain": [
       "2.0489756097560976"
      ]
     },
     "execution_count": 11,
     "metadata": {},
     "output_type": "execute_result"
    }
   ],
   "source": [
    "fx / fy"
   ]
  },
  {
   "cell_type": "code",
   "execution_count": 20,
   "id": "15fd5097-b92c-4baa-9d24-d48925103f6b",
   "metadata": {},
   "outputs": [],
   "source": [
    "# Construct a sgort word made of separate strings"
   ]
  },
  {
   "cell_type": "code",
   "execution_count": 12,
   "id": "f9671e8c-14b7-4c50-97ff-628f2edfd8c3",
   "metadata": {},
   "outputs": [],
   "source": [
    "a = 'pass'  "
   ]
  },
  {
   "cell_type": "code",
   "execution_count": 13,
   "id": "f7383e6f-a0bd-4a59-b724-7fa1ab44fc2c",
   "metadata": {},
   "outputs": [],
   "source": [
    "b = 'word'"
   ]
  },
  {
   "cell_type": "code",
   "execution_count": 14,
   "id": "c5a6f728-2acf-4154-8670-6ae6c9c9bf27",
   "metadata": {},
   "outputs": [
    {
     "data": {
      "text/plain": [
       "'password'"
      ]
     },
     "execution_count": 14,
     "metadata": {},
     "output_type": "execute_result"
    }
   ],
   "source": [
    "a + b"
   ]
  },
  {
   "cell_type": "code",
   "execution_count": 21,
   "id": "181d0ef8-6e71-4fb1-8202-260a2089dc51",
   "metadata": {},
   "outputs": [],
   "source": [
    "# Construct 2 short sentences made of separate strings "
   ]
  },
  {
   "cell_type": "code",
   "execution_count": 15,
   "id": "34fce70f-e532-45bd-b9cf-a5bd25d2c9ba",
   "metadata": {},
   "outputs": [],
   "source": [
    "c = 'Come to Brazil, '"
   ]
  },
  {
   "cell_type": "code",
   "execution_count": 16,
   "id": "279191ed-2c51-4f23-b101-d87ede20e223",
   "metadata": {},
   "outputs": [],
   "source": [
    "w = 'Welcome to Brazil!'"
   ]
  },
  {
   "cell_type": "code",
   "execution_count": 17,
   "id": "494a03ae-82f3-4d38-bdab-6c49d5cd2a7e",
   "metadata": {},
   "outputs": [
    {
     "data": {
      "text/plain": [
       "'Come to Brazil, Welcome to Brazil!'"
      ]
     },
     "execution_count": 17,
     "metadata": {},
     "output_type": "execute_result"
    }
   ],
   "source": [
    "c + w"
   ]
  },
  {
   "cell_type": "code",
   "execution_count": null,
   "id": "6c574481-f8bc-4d63-8b20-bba99c812438",
   "metadata": {},
   "outputs": [],
   "source": []
  }
 ],
 "metadata": {
  "kernelspec": {
   "display_name": "Python 3 (ipykernel)",
   "language": "python",
   "name": "python3"
  },
  "language_info": {
   "codemirror_mode": {
    "name": "ipython",
    "version": 3
   },
   "file_extension": ".py",
   "mimetype": "text/x-python",
   "name": "python",
   "nbconvert_exporter": "python",
   "pygments_lexer": "ipython3",
   "version": "3.11.7"
  }
 },
 "nbformat": 4,
 "nbformat_minor": 5
}
